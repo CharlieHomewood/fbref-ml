{
 "cells": [
  {
   "cell_type": "code",
   "execution_count": 2,
   "id": "7dbf85b6",
   "metadata": {},
   "outputs": [],
   "source": [
    "import duckdb"
   ]
  },
  {
   "cell_type": "code",
   "execution_count": 3,
   "id": "577a7000",
   "metadata": {},
   "outputs": [],
   "source": [
    "duckdb_connection = duckdb.connect(\"../data/player_data.duckdb\")\n",
    "\n",
    "dfs = {\n",
    "    name: duckdb_connection.execute(f'SELECT * FROM \"{name}\"').df().convert_dtypes()\n",
    "    for name in [t[0] for t in duckdb_connection.execute(\"SHOW TABLES\").fetchall()]\n",
    "}"
   ]
  },
  {
   "cell_type": "code",
   "execution_count": 6,
   "id": "841ac9ea",
   "metadata": {},
   "outputs": [
    {
     "data": {
      "text/plain": [
       "dict_keys(['player_data_season_2017_2018', 'player_data_season_2018_2019', 'player_data_season_2019_2020', 'player_data_season_2020_2021', 'player_data_season_2021_2022', 'player_data_season_2022_2023', 'player_data_season_2023_2024', 'player_data_season_2024_2025', 'player_data_season_2025_2026'])"
      ]
     },
     "execution_count": null,
     "metadata": {},
     "output_type": "execute_result"
    }
   ],
   "source": [
    "dfs.keys()"
   ]
  }
 ],
 "metadata": {
  "language_info": {
   "name": "python"
  }
 },
 "nbformat": 4,
 "nbformat_minor": 5
}
