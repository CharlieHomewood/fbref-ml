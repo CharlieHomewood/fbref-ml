{
 "cells": [
  {
   "cell_type": "code",
   "execution_count": 1,
   "id": "fbfbfc2d",
   "metadata": {},
   "outputs": [],
   "source": [
    "import duckdb\n",
    "from datetime import datetime\n",
    "import re\n",
    "from utils.data_cleaning import generate_unique_id\n",
    "\n",
    "duckdb_connection = duckdb.connect(\"../data/player_data.duckdb\")\n",
    "\n",
    "tables = duckdb_connection.execute(\"SHOW TABLES\").fetchall()\n",
    "\n",
    "table_names = [t[0] for t in tables]\n",
    "seasons = [f\"{i-1}-{i}\" for i in range(2025, datetime.now().year + 2)]\n",
    "\n",
    "dfs = {season: duckdb_connection.execute(f\"SELECT * FROM {table}\").fetchdf() for season, table in zip(seasons, table_names)}"
   ]
  }
 ],
 "metadata": {
  "language_info": {
   "name": "python"
  }
 },
 "nbformat": 4,
 "nbformat_minor": 5
}
